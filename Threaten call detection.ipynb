{
 "cells": [
  {
   "cell_type": "code",
   "execution_count": 5,
   "id": "1d6b6322",
   "metadata": {},
   "outputs": [],
   "source": [
    "import speech_recognition as sr\n",
    "import IPython"
   ]
  },
  {
   "cell_type": "code",
   "execution_count": 4,
   "id": "d8c3c2ab",
   "metadata": {},
   "outputs": [
    {
     "name": "stdout",
     "output_type": "stream",
     "text": [
      "Collecting SpeechRecognition\n",
      "  Downloading SpeechRecognition-3.10.3-py2.py3-none-any.whl.metadata (29 kB)\n",
      "Requirement already satisfied: requests>=2.26.0 in c:\\users\\vigne\\appdata\\local\\programs\\python\\python311\\lib\\site-packages (from SpeechRecognition) (2.31.0)\n",
      "Requirement already satisfied: typing-extensions in c:\\users\\vigne\\appdata\\local\\programs\\python\\python311\\lib\\site-packages (from SpeechRecognition) (4.8.0)\n",
      "Requirement already satisfied: charset-normalizer<4,>=2 in c:\\users\\vigne\\appdata\\local\\programs\\python\\python311\\lib\\site-packages (from requests>=2.26.0->SpeechRecognition) (3.1.0)\n",
      "Requirement already satisfied: idna<4,>=2.5 in c:\\users\\vigne\\appdata\\local\\programs\\python\\python311\\lib\\site-packages (from requests>=2.26.0->SpeechRecognition) (2.10)\n",
      "Requirement already satisfied: urllib3<3,>=1.21.1 in c:\\users\\vigne\\appdata\\local\\programs\\python\\python311\\lib\\site-packages (from requests>=2.26.0->SpeechRecognition) (1.26.16)\n",
      "Requirement already satisfied: certifi>=2017.4.17 in c:\\users\\vigne\\appdata\\local\\programs\\python\\python311\\lib\\site-packages (from requests>=2.26.0->SpeechRecognition) (2023.5.7)\n",
      "Downloading SpeechRecognition-3.10.3-py2.py3-none-any.whl (32.8 MB)\n",
      "   ---------------------------------------- 0.0/32.8 MB ? eta -:--:--\n",
      "   ---------------------------------------- 0.4/32.8 MB 7.6 MB/s eta 0:00:05\n",
      "   - -------------------------------------- 1.1/32.8 MB 11.7 MB/s eta 0:00:03\n",
      "   - -------------------------------------- 1.6/32.8 MB 14.6 MB/s eta 0:00:03\n",
      "   -- ------------------------------------- 1.8/32.8 MB 10.7 MB/s eta 0:00:03\n",
      "   -- ------------------------------------- 2.4/32.8 MB 11.0 MB/s eta 0:00:03\n",
      "   --- ------------------------------------ 2.7/32.8 MB 10.2 MB/s eta 0:00:03\n",
      "   --- ------------------------------------ 2.8/32.8 MB 9.0 MB/s eta 0:00:04\n",
      "   --- ------------------------------------ 3.0/32.8 MB 8.4 MB/s eta 0:00:04\n",
      "   --- ------------------------------------ 3.3/32.8 MB 8.0 MB/s eta 0:00:04\n",
      "   ---- ----------------------------------- 3.6/32.8 MB 7.6 MB/s eta 0:00:04\n",
      "   ---- ----------------------------------- 4.1/32.8 MB 8.4 MB/s eta 0:00:04\n",
      "   ----- ---------------------------------- 4.3/32.8 MB 7.9 MB/s eta 0:00:04\n",
      "   ----- ---------------------------------- 4.5/32.8 MB 7.5 MB/s eta 0:00:04\n",
      "   ----- ---------------------------------- 4.7/32.8 MB 7.5 MB/s eta 0:00:04\n",
      "   ------ --------------------------------- 5.1/32.8 MB 7.6 MB/s eta 0:00:04\n",
      "   ------ --------------------------------- 5.6/32.8 MB 7.6 MB/s eta 0:00:04\n",
      "   ------ --------------------------------- 5.7/32.8 MB 7.3 MB/s eta 0:00:04\n",
      "   ------- -------------------------------- 6.1/32.8 MB 7.2 MB/s eta 0:00:04\n",
      "   ------- -------------------------------- 6.3/32.8 MB 7.2 MB/s eta 0:00:04\n",
      "   ------- -------------------------------- 6.4/32.8 MB 6.9 MB/s eta 0:00:04\n",
      "   ------- -------------------------------- 6.6/32.8 MB 6.8 MB/s eta 0:00:04\n",
      "   -------- ------------------------------- 6.6/32.8 MB 6.5 MB/s eta 0:00:05\n",
      "   -------- ------------------------------- 6.7/32.8 MB 6.3 MB/s eta 0:00:05\n",
      "   -------- ------------------------------- 6.8/32.8 MB 6.1 MB/s eta 0:00:05\n",
      "   -------- ------------------------------- 6.9/32.8 MB 6.0 MB/s eta 0:00:05\n",
      "   -------- ------------------------------- 7.0/32.8 MB 5.8 MB/s eta 0:00:05\n",
      "   -------- ------------------------------- 7.1/32.8 MB 5.7 MB/s eta 0:00:05\n",
      "   -------- ------------------------------- 7.2/32.8 MB 5.6 MB/s eta 0:00:05\n",
      "   -------- ------------------------------- 7.4/32.8 MB 5.5 MB/s eta 0:00:05\n",
      "   --------- ------------------------------ 7.5/32.8 MB 5.3 MB/s eta 0:00:05\n",
      "   --------- ------------------------------ 7.6/32.8 MB 5.3 MB/s eta 0:00:05\n",
      "   --------- ------------------------------ 7.7/32.8 MB 5.2 MB/s eta 0:00:05\n",
      "   --------- ------------------------------ 7.9/32.8 MB 5.1 MB/s eta 0:00:05\n",
      "   --------- ------------------------------ 8.0/32.8 MB 5.0 MB/s eta 0:00:05\n",
      "   --------- ------------------------------ 8.1/32.8 MB 5.0 MB/s eta 0:00:05\n",
      "   ---------- ----------------------------- 8.3/32.8 MB 4.9 MB/s eta 0:00:05\n",
      "   ---------- ----------------------------- 8.4/32.8 MB 4.9 MB/s eta 0:00:05\n",
      "   ---------- ----------------------------- 8.6/32.8 MB 4.9 MB/s eta 0:00:05\n",
      "   ---------- ----------------------------- 8.7/32.8 MB 4.8 MB/s eta 0:00:05\n",
      "   ---------- ----------------------------- 8.9/32.8 MB 4.8 MB/s eta 0:00:05\n",
      "   ----------- ---------------------------- 9.1/32.8 MB 4.8 MB/s eta 0:00:05\n",
      "   ----------- ---------------------------- 9.3/32.8 MB 4.7 MB/s eta 0:00:05\n",
      "   ----------- ---------------------------- 9.5/32.8 MB 4.7 MB/s eta 0:00:05\n",
      "   ----------- ---------------------------- 9.6/32.8 MB 4.7 MB/s eta 0:00:05\n",
      "   ----------- ---------------------------- 9.8/32.8 MB 4.7 MB/s eta 0:00:05\n",
      "   ------------ --------------------------- 10.0/32.8 MB 4.7 MB/s eta 0:00:05\n",
      "   ------------ --------------------------- 10.2/32.8 MB 4.7 MB/s eta 0:00:05\n",
      "   ------------ --------------------------- 10.4/32.8 MB 4.6 MB/s eta 0:00:05\n",
      "   ------------ --------------------------- 10.6/32.8 MB 4.6 MB/s eta 0:00:05\n",
      "   ------------- -------------------------- 10.9/32.8 MB 4.5 MB/s eta 0:00:05\n",
      "   ------------- -------------------------- 11.1/32.8 MB 4.5 MB/s eta 0:00:05\n",
      "   ------------- -------------------------- 11.3/32.8 MB 4.4 MB/s eta 0:00:05\n",
      "   -------------- ------------------------- 11.6/32.8 MB 4.3 MB/s eta 0:00:05\n",
      "   -------------- ------------------------- 11.8/32.8 MB 4.3 MB/s eta 0:00:05\n",
      "   -------------- ------------------------- 12.0/32.8 MB 4.3 MB/s eta 0:00:05\n",
      "   -------------- ------------------------- 12.3/32.8 MB 4.3 MB/s eta 0:00:05\n",
      "   --------------- ------------------------ 12.5/32.8 MB 4.2 MB/s eta 0:00:05\n",
      "   --------------- ------------------------ 12.8/32.8 MB 4.2 MB/s eta 0:00:05\n",
      "   --------------- ------------------------ 13.1/32.8 MB 4.2 MB/s eta 0:00:05\n",
      "   ---------------- ----------------------- 13.3/32.8 MB 4.2 MB/s eta 0:00:05\n",
      "   ---------------- ----------------------- 13.6/32.8 MB 4.3 MB/s eta 0:00:05\n",
      "   ---------------- ----------------------- 13.9/32.8 MB 4.2 MB/s eta 0:00:05\n",
      "   ----------------- ---------------------- 14.2/32.8 MB 4.2 MB/s eta 0:00:05\n",
      "   ----------------- ---------------------- 14.5/32.8 MB 4.2 MB/s eta 0:00:05\n",
      "   ----------------- ---------------------- 14.7/32.8 MB 4.2 MB/s eta 0:00:05\n",
      "   ------------------ --------------------- 15.1/32.8 MB 4.2 MB/s eta 0:00:05\n",
      "   ------------------ --------------------- 15.4/32.8 MB 4.2 MB/s eta 0:00:05\n",
      "   ------------------- -------------------- 15.7/32.8 MB 4.2 MB/s eta 0:00:05\n",
      "   ------------------- -------------------- 16.0/32.8 MB 4.2 MB/s eta 0:00:04\n",
      "   ------------------- -------------------- 16.3/32.8 MB 4.2 MB/s eta 0:00:04\n",
      "   -------------------- ------------------- 16.6/32.8 MB 4.3 MB/s eta 0:00:04\n",
      "   -------------------- ------------------- 17.0/32.8 MB 4.5 MB/s eta 0:00:04\n",
      "   --------------------- ------------------ 17.3/32.8 MB 4.7 MB/s eta 0:00:04\n",
      "   --------------------- ------------------ 17.6/32.8 MB 4.9 MB/s eta 0:00:04\n",
      "   --------------------- ------------------ 18.0/32.8 MB 5.1 MB/s eta 0:00:03\n",
      "   ---------------------- ----------------- 18.3/32.8 MB 5.3 MB/s eta 0:00:03\n",
      "   ---------------------- ----------------- 18.6/32.8 MB 5.4 MB/s eta 0:00:03\n",
      "   ----------------------- ---------------- 18.9/32.8 MB 5.6 MB/s eta 0:00:03\n",
      "   ----------------------- ---------------- 19.3/32.8 MB 5.7 MB/s eta 0:00:03\n",
      "   ----------------------- ---------------- 19.7/32.8 MB 5.9 MB/s eta 0:00:03\n",
      "   ------------------------ --------------- 19.9/32.8 MB 6.0 MB/s eta 0:00:03\n",
      "   ------------------------ --------------- 20.3/32.8 MB 6.2 MB/s eta 0:00:03\n",
      "   ------------------------ --------------- 20.5/32.8 MB 6.1 MB/s eta 0:00:03\n",
      "   ------------------------- -------------- 20.6/32.8 MB 6.1 MB/s eta 0:00:02\n",
      "   ------------------------- -------------- 20.8/32.8 MB 6.1 MB/s eta 0:00:02\n",
      "   ------------------------- -------------- 20.9/32.8 MB 6.0 MB/s eta 0:00:03\n",
      "   ------------------------- -------------- 21.0/32.8 MB 6.0 MB/s eta 0:00:02\n",
      "   ------------------------- -------------- 21.2/32.8 MB 5.9 MB/s eta 0:00:02\n",
      "   ------------------------- -------------- 21.3/32.8 MB 5.8 MB/s eta 0:00:02\n",
      "   -------------------------- ------------- 21.5/32.8 MB 5.8 MB/s eta 0:00:02\n",
      "   -------------------------- ------------- 21.7/32.8 MB 5.7 MB/s eta 0:00:02\n",
      "   -------------------------- ------------- 21.8/32.8 MB 5.7 MB/s eta 0:00:02\n",
      "   -------------------------- ------------- 22.0/32.8 MB 5.6 MB/s eta 0:00:02\n",
      "   -------------------------- ------------- 22.2/32.8 MB 5.6 MB/s eta 0:00:02\n",
      "   --------------------------- ------------ 22.4/32.8 MB 5.5 MB/s eta 0:00:02\n",
      "   --------------------------- ------------ 22.5/32.8 MB 5.5 MB/s eta 0:00:02\n",
      "   --------------------------- ------------ 22.7/32.8 MB 5.5 MB/s eta 0:00:02\n",
      "   --------------------------- ------------ 22.9/32.8 MB 5.5 MB/s eta 0:00:02\n",
      "   ---------------------------- ----------- 23.1/32.8 MB 5.4 MB/s eta 0:00:02\n",
      "   ---------------------------- ----------- 23.4/32.8 MB 5.4 MB/s eta 0:00:02\n",
      "   ---------------------------- ----------- 23.6/32.8 MB 5.4 MB/s eta 0:00:02\n",
      "   ----------------------------- ---------- 23.8/32.8 MB 5.3 MB/s eta 0:00:02\n",
      "   ----------------------------- ---------- 24.0/32.8 MB 5.3 MB/s eta 0:00:02\n",
      "   ----------------------------- ---------- 24.3/32.8 MB 5.3 MB/s eta 0:00:02\n",
      "   ----------------------------- ---------- 24.5/32.8 MB 5.3 MB/s eta 0:00:02\n",
      "   ------------------------------ --------- 24.8/32.8 MB 5.3 MB/s eta 0:00:02\n",
      "   ------------------------------ --------- 25.0/32.8 MB 5.2 MB/s eta 0:00:02\n",
      "   ------------------------------ --------- 25.2/32.8 MB 5.2 MB/s eta 0:00:02\n",
      "   ------------------------------- -------- 25.5/32.8 MB 5.2 MB/s eta 0:00:02\n",
      "   ------------------------------- -------- 25.8/32.8 MB 5.2 MB/s eta 0:00:02\n",
      "   ------------------------------- -------- 26.0/32.8 MB 5.2 MB/s eta 0:00:02\n",
      "   -------------------------------- ------- 26.3/32.8 MB 5.1 MB/s eta 0:00:02\n",
      "   -------------------------------- ------- 26.5/32.8 MB 5.1 MB/s eta 0:00:02\n",
      "   -------------------------------- ------- 26.8/32.8 MB 5.1 MB/s eta 0:00:02\n",
      "   --------------------------------- ------ 27.1/32.8 MB 5.1 MB/s eta 0:00:02\n",
      "   --------------------------------- ------ 27.4/32.8 MB 5.1 MB/s eta 0:00:02\n",
      "   --------------------------------- ------ 27.7/32.8 MB 5.0 MB/s eta 0:00:02\n",
      "   ---------------------------------- ----- 28.0/32.8 MB 5.0 MB/s eta 0:00:01\n",
      "   ---------------------------------- ----- 28.3/32.8 MB 5.0 MB/s eta 0:00:01\n",
      "   ---------------------------------- ----- 28.6/32.8 MB 5.0 MB/s eta 0:00:01\n",
      "   ----------------------------------- ---- 28.9/32.8 MB 5.0 MB/s eta 0:00:01\n",
      "   ----------------------------------- ---- 29.2/32.8 MB 5.0 MB/s eta 0:00:01\n",
      "   ----------------------------------- ---- 29.6/32.8 MB 5.0 MB/s eta 0:00:01\n",
      "   ------------------------------------ --- 29.9/32.8 MB 5.0 MB/s eta 0:00:01\n",
      "   ------------------------------------ --- 30.2/32.8 MB 5.0 MB/s eta 0:00:01\n",
      "   ------------------------------------- -- 30.6/32.8 MB 5.0 MB/s eta 0:00:01\n",
      "   ------------------------------------- -- 30.9/32.8 MB 5.2 MB/s eta 0:00:01\n",
      "   -------------------------------------- - 31.3/32.8 MB 5.4 MB/s eta 0:00:01\n",
      "   -------------------------------------- - 31.6/32.8 MB 5.5 MB/s eta 0:00:01\n",
      "   -------------------------------------- - 32.0/32.8 MB 5.7 MB/s eta 0:00:01\n",
      "   ---------------------------------------  32.3/32.8 MB 5.8 MB/s eta 0:00:01\n",
      "   ---------------------------------------  32.6/32.8 MB 5.9 MB/s eta 0:00:01\n",
      "   ---------------------------------------  32.8/32.8 MB 6.0 MB/s eta 0:00:01\n",
      "   ---------------------------------------  32.8/32.8 MB 6.0 MB/s eta 0:00:01\n",
      "   ---------------------------------------  32.8/32.8 MB 6.0 MB/s eta 0:00:01\n",
      "   ---------------------------------------  32.8/32.8 MB 6.0 MB/s eta 0:00:01\n",
      "   ---------------------------------------  32.8/32.8 MB 6.0 MB/s eta 0:00:01\n",
      "   ---------------------------------------- 32.8/32.8 MB 5.4 MB/s eta 0:00:00\n",
      "Installing collected packages: SpeechRecognition\n",
      "Successfully installed SpeechRecognition-3.10.3\n",
      "Note: you may need to restart the kernel to use updated packages.\n"
     ]
    }
   ],
   "source": [
    "pip install SpeechRecognition"
   ]
  },
  {
   "cell_type": "code",
   "execution_count": 26,
   "id": "2e1113da",
   "metadata": {},
   "outputs": [
    {
     "name": "stdout",
     "output_type": "stream",
     "text": [
      "Speak something...\n",
      "You said: I will kill you\n"
     ]
    }
   ],
   "source": [
    "import speech_recognition as sr\n",
    "import IPython\n",
    "# Initialize recognizer\n",
    "r = sr.Recognizer()\n",
    "\n",
    "# Capture audio from microphone\n",
    "with sr.Microphone() as source:\n",
    "    print(\"Speak something...\")\n",
    "    audio = r.listen(source)\n",
    "\n",
    "# Convert audio to text\n",
    "try:\n",
    "    text = r.recognize_google(audio)\n",
    "    print(\"You said: \" + text)\n",
    "except sr.UnknownValueError:\n",
    "    print(\"Sorry, I could not understand what you said\")\n",
    "except sr.RequestError:\n",
    "    print(\"Sorry, my speech service is currently down\")\n"
   ]
  },
  {
   "cell_type": "code",
   "execution_count": 56,
   "id": "773c5b44",
   "metadata": {},
   "outputs": [
    {
     "data": {
      "text/plain": [
       "'male_path = \"hello.wav\"\\nIPython.display.Audio(male_path)'"
      ]
     },
     "execution_count": 56,
     "metadata": {},
     "output_type": "execute_result"
    }
   ],
   "source": [
    "'''male_path = \"hello.wav\"\n",
    "IPython.display.Audio(male_path)'''"
   ]
  },
  {
   "cell_type": "code",
   "execution_count": 58,
   "id": "5d080fa9",
   "metadata": {},
   "outputs": [
    {
     "data": {
      "text/plain": [
       "\"def speech_to_text(audio_file):\\n  with sr.AudioFile(audio_file) as source:\\n    audio_text = r.listen(source)\\n    try:\\n        text = r.recognize_google(audio_text)\\n        print('Converting audio transcripts into text ...')\\n    except:\\n         print('Sorry.. run again...')\\n  return text\""
      ]
     },
     "execution_count": 58,
     "metadata": {},
     "output_type": "execute_result"
    }
   ],
   "source": [
    "'''def speech_to_text(audio_file):\n",
    "  with sr.AudioFile(audio_file) as source:\n",
    "    audio_text = r.listen(source)\n",
    "    try:\n",
    "        text = r.recognize_google(audio_text)\n",
    "        print('Converting audio transcripts into text ...')\n",
    "    except:\n",
    "         print('Sorry.. run again...')\n",
    "  return text'''"
   ]
  },
  {
   "cell_type": "code",
   "execution_count": 27,
   "id": "5fa8444e",
   "metadata": {},
   "outputs": [],
   "source": [
    "l=text\n"
   ]
  },
  {
   "cell_type": "code",
   "execution_count": 28,
   "id": "2dbbfc75",
   "metadata": {},
   "outputs": [],
   "source": [
    "import chardet\n",
    "\n",
    "# Detect the encoding of the file\n",
    "with open(r\"C:\\Users\\vigne\\Downloads\\Call-Harassment-Detection-Parental-Alert-main\\Call-Harassment-Detection-Parental-Alert-main\\Threaten call detection.csv\", 'rb') as f:\n",
    "    result = chardet.detect(f.read())\n",
    "encoding = result['encoding']\n"
   ]
  },
  {
   "cell_type": "code",
   "execution_count": 19,
   "id": "c66f2958",
   "metadata": {},
   "outputs": [
    {
     "name": "stdout",
     "output_type": "stream",
     "text": [
      "Accuracy: 79.18552036199095\n"
     ]
    }
   ],
   "source": [
    "import pandas as pd\n",
    "from sklearn.feature_extraction.text import CountVectorizer\n",
    "from sklearn.linear_model import LogisticRegression\n",
    "from sklearn.model_selection import train_test_split\n",
    "from sklearn.metrics import accuracy_score\n",
    "# Load the data\n",
    "df = pd.read_csv(r\"C:\\Users\\vigne\\Downloads\\Call-Harassment-Detection-Parental-Alert-main\\Call-Harassment-Detection-Parental-Alert-main\\Threaten call detection.csv\",encoding=encoding)\n",
    "df = df.dropna()\n",
    "df = df.sample(frac=1, random_state=42)\n",
    "# Split the data into training and testing sets\n",
    "X = df['Review']\n",
    "y = df['Liked']\n",
    "X_train, X_test, y_train, y_test = train_test_split(X, y, test_size=0.2, random_state=42)\n",
    "# Convert text to bag-of-words features\n",
    "vectorizer = CountVectorizer()\n",
    "X_train = vectorizer.fit_transform(X_train)\n",
    "X_test = vectorizer.transform(X_test)\n",
    "# Train a logistic regression model\n",
    "clf = LogisticRegression()\n",
    "clf.fit(X_train, y_train)\n",
    "# Make predictions on the test set\n",
    "y_pred = clf.predict(X_test)\n",
    "# Calculate accuracy score\n",
    "acc = accuracy_score(y_test, y_pred)\n",
    "print('Accuracy:', acc*100)"
   ]
  },
  {
   "cell_type": "code",
   "execution_count": 20,
   "id": "944c5746",
   "metadata": {},
   "outputs": [
    {
     "name": "stdout",
     "output_type": "stream",
     "text": [
      "Accuracy: 77.82805429864254\n"
     ]
    }
   ],
   "source": [
    "import pandas as pd\n",
    "from sklearn.feature_extraction.text import CountVectorizer\n",
    "from sklearn.tree import DecisionTreeClassifier\n",
    "from sklearn.model_selection import train_test_split\n",
    "from sklearn.metrics import accuracy_score\n",
    "\n",
    "# Load the data\n",
    "df = pd.read_csv(r\"C:\\Users\\vigne\\Downloads\\Call-Harassment-Detection-Parental-Alert-main\\Call-Harassment-Detection-Parental-Alert-main\\Threaten call detection.csv\", encoding=encoding)\n",
    "df = df.dropna()\n",
    "df = df.sample(frac=1, random_state=42)\n",
    "\n",
    "# Split the data into training and testing sets\n",
    "X = df['Review']\n",
    "y = df['Liked']\n",
    "X_train, X_test, y_train, y_test = train_test_split(X, y, test_size=0.2, random_state=42)\n",
    "\n",
    "# Convert text to bag-of-words features\n",
    "vectorizer = CountVectorizer()\n",
    "X_train = vectorizer.fit_transform(X_train)\n",
    "X_test = vectorizer.transform(X_test)\n",
    "\n",
    "# Train a decision tree classifier\n",
    "clf = DecisionTreeClassifier(max_depth=8)\n",
    "clf.fit(X_train, y_train)\n",
    "\n",
    "# Make predictions on the test set\n",
    "y_pred = clf.predict(X_test)\n",
    "\n",
    "# Calculate accuracy score\n",
    "acc = accuracy_score(y_test, y_pred)\n",
    "print('Accuracy:', acc*100)\n"
   ]
  },
  {
   "cell_type": "code",
   "execution_count": 29,
   "id": "b4481321",
   "metadata": {},
   "outputs": [
    {
     "name": "stdout",
     "output_type": "stream",
     "text": [
      "Accuracy: 80.09049773755656\n"
     ]
    }
   ],
   "source": [
    "import pandas as pd\n",
    "from sklearn.feature_extraction.text import CountVectorizer\n",
    "from sklearn.ensemble import RandomForestClassifier\n",
    "from sklearn.model_selection import train_test_split\n",
    "from sklearn.metrics import accuracy_score\n",
    "\n",
    "# Load the data\n",
    "df = pd.read_csv(r\"C:\\Users\\vigne\\Downloads\\Call-Harassment-Detection-Parental-Alert-main\\Call-Harassment-Detection-Parental-Alert-main\\Threaten call detection.csv\", encoding=encoding)\n",
    "df = df.dropna()\n",
    "df = df.sample(frac=1, random_state=42)\n",
    "\n",
    "# Split the data into training and testing sets\n",
    "X = df['Review']\n",
    "y = df['Liked']\n",
    "X_train, X_test, y_train, y_test = train_test_split(X, y, test_size=0.2, random_state=42)\n",
    "\n",
    "# Convert text to bag-of-words features\n",
    "vectorizer = CountVectorizer()\n",
    "X_train = vectorizer.fit_transform(X_train)\n",
    "X_test = vectorizer.transform(X_test)\n",
    "\n",
    "# Train a random forest classifier\n",
    "clf = RandomForestClassifier(n_estimators=100, max_depth=10, random_state=42)\n",
    "clf.fit(X_train, y_train)\n",
    "\n",
    "# Make predictions on the test set\n",
    "y_pred = clf.predict(X_test)\n",
    "\n",
    "# Calculate accuracy score\n",
    "acc = accuracy_score(y_test, y_pred)\n",
    "print('Accuracy:', acc*100)\n"
   ]
  },
  {
   "cell_type": "code",
   "execution_count": 23,
   "id": "e9b04749",
   "metadata": {},
   "outputs": [
    {
     "name": "stdout",
     "output_type": "stream",
     "text": [
      "Accuracy: 77.37556561085974\n"
     ]
    }
   ],
   "source": [
    "import pandas as pd\n",
    "from sklearn.feature_extraction.text import CountVectorizer\n",
    "from sklearn.naive_bayes import MultinomialNB\n",
    "from sklearn.model_selection import train_test_split\n",
    "from sklearn.metrics import accuracy_score\n",
    "\n",
    "# Load the data\n",
    "df = pd.read_csv(r\"C:\\Users\\vigne\\Downloads\\Call-Harassment-Detection-Parental-Alert-main\\Call-Harassment-Detection-Parental-Alert-main\\Threaten call detection.csv\", encoding=encoding)\n",
    "df = df.dropna()\n",
    "df = df.sample(frac=1, random_state=42)\n",
    "\n",
    "# Split the data into training and testing sets\n",
    "X = df['Review']\n",
    "y = df['Liked']\n",
    "X_train, X_test, y_train, y_test = train_test_split(X, y, test_size=0.2, random_state=42)\n",
    "\n",
    "# Convert text to bag-of-words features\n",
    "vectorizer = CountVectorizer()\n",
    "X_train = vectorizer.fit_transform(X_train)\n",
    "X_test = vectorizer.transform(X_test)\n",
    "\n",
    "# Train a Naive Bayes classifier\n",
    "clf = MultinomialNB()\n",
    "clf.fit(X_train, y_train)\n",
    "\n",
    "# Make predictions on the test set\n",
    "y_pred = clf.predict(X_test)\n",
    "\n",
    "# Calculate accuracy score\n",
    "acc = accuracy_score(y_test, y_pred)\n",
    "print('Accuracy:', acc*100)\n"
   ]
  },
  {
   "cell_type": "code",
   "execution_count": 30,
   "id": "9f763422",
   "metadata": {},
   "outputs": [
    {
     "name": "stdout",
     "output_type": "stream",
     "text": [
      "0\n"
     ]
    }
   ],
   "source": [
    "raw_text =l\n",
    "raw_text_bow = vectorizer.transform([raw_text])\n",
    "# Use the model to predict the sentiment of the raw text\n",
    "sentiment = clf.predict(raw_text_bow)[0]\n",
    "print(sentiment)"
   ]
  },
  {
   "cell_type": "code",
   "execution_count": 32,
   "id": "e60abaf9",
   "metadata": {},
   "outputs": [
    {
     "name": "stdout",
     "output_type": "stream",
     "text": [
      "In 34 Seconds WhatsApp will open and after 15 Seconds Message will be Delivered!\n",
      "In 45 Seconds WhatsApp will open and after 15 Seconds Message will be Delivered!\n"
     ]
    },
    {
     "ename": "IndexError",
     "evalue": "list index out of range",
     "output_type": "error",
     "traceback": [
      "\u001b[1;31m---------------------------------------------------------------------------\u001b[0m",
      "\u001b[1;31mIndexError\u001b[0m                                Traceback (most recent call last)",
      "Cell \u001b[1;32mIn[32], line 9\u001b[0m\n\u001b[0;32m      7\u001b[0m \u001b[38;5;28;01mif\u001b[39;00m sentiment\u001b[38;5;241m==\u001b[39m\u001b[38;5;241m0\u001b[39m:\n\u001b[0;32m      8\u001b[0m     \u001b[38;5;28;01mfor\u001b[39;00m j \u001b[38;5;129;01min\u001b[39;00m \u001b[38;5;28mrange\u001b[39m(\u001b[38;5;241m3\u001b[39m):\n\u001b[1;32m----> 9\u001b[0m         number\u001b[38;5;241m=\u001b[39m\u001b[43mregisternumber\u001b[49m\u001b[43m[\u001b[49m\u001b[43mj\u001b[49m\u001b[43m]\u001b[49m\n\u001b[0;32m     10\u001b[0m         message \u001b[38;5;241m=\u001b[39m \u001b[38;5;124m\"\u001b[39m\u001b[38;5;124mit\u001b[39m\u001b[38;5;124m'\u001b[39m\u001b[38;5;124ms a threaten call\u001b[39m\u001b[38;5;124m\"\u001b[39m\n\u001b[0;32m     11\u001b[0m         pywhatkit\u001b[38;5;241m.\u001b[39msendwhatmsg(number, message, datetime\u001b[38;5;241m.\u001b[39mdatetime\u001b[38;5;241m.\u001b[39mnow()\u001b[38;5;241m.\u001b[39mhour, datetime\u001b[38;5;241m.\u001b[39mdatetime\u001b[38;5;241m.\u001b[39mnow()\u001b[38;5;241m.\u001b[39mminute \u001b[38;5;241m+\u001b[39m \u001b[38;5;241m1\u001b[39m)\n",
      "\u001b[1;31mIndexError\u001b[0m: list index out of range"
     ]
    }
   ],
   "source": [
    "import pywhatkit\n",
    "import datetime\n",
    "registernumber=[\"+918978119486\",\"+917993668339\"]\n",
    "'''for i in range(3):\n",
    "    sample =\"+91\"+input()\n",
    "    registernumber.append(sample)'''\n",
    "if sentiment==0:\n",
    "    for j in range(3):\n",
    "        number=registernumber[j]\n",
    "        message = \"it's a threaten call\"\n",
    "        pywhatkit.sendwhatmsg(number, message, datetime.datetime.now().hour, datetime.datetime.now().minute + 1)\n",
    "else:\n",
    "    print(\"it's not a threaten call\")"
   ]
  },
  {
   "cell_type": "code",
   "execution_count": null,
   "id": "7cc615fd",
   "metadata": {},
   "outputs": [],
   "source": []
  }
 ],
 "metadata": {
  "kernelspec": {
   "display_name": "Python 3 (ipykernel)",
   "language": "python",
   "name": "python3"
  },
  "language_info": {
   "codemirror_mode": {
    "name": "ipython",
    "version": 3
   },
   "file_extension": ".py",
   "mimetype": "text/x-python",
   "name": "python",
   "nbconvert_exporter": "python",
   "pygments_lexer": "ipython3",
   "version": "3.11.4"
  }
 },
 "nbformat": 4,
 "nbformat_minor": 5
}
